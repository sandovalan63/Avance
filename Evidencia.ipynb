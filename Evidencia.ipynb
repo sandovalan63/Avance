{
  "nbformat": 4,
  "nbformat_minor": 0,
  "metadata": {
    "colab": {
      "provenance": [],
      "authorship_tag": "ABX9TyPUf2I1ck2c7U2D3YDlIr4i",
      "include_colab_link": true
    },
    "kernelspec": {
      "name": "python3",
      "display_name": "Python 3"
    },
    "language_info": {
      "name": "python"
    }
  },
  "cells": [
    {
      "cell_type": "markdown",
      "metadata": {
        "id": "view-in-github",
        "colab_type": "text"
      },
      "source": [
        "<a href=\"https://colab.research.google.com/github/sandovalan63/Avance/blob/main/Evidencia.ipynb\" target=\"_parent\"><img src=\"https://colab.research.google.com/assets/colab-badge.svg\" alt=\"Open In Colab\"/></a>"
      ]
    },
    {
      "cell_type": "markdown",
      "source": [
        "# Alan Sandoval Balderas A01284578"
      ],
      "metadata": {
        "id": "DmcJivxT8Iuq"
      }
    },
    {
      "cell_type": "code",
      "source": [
        "p = \"https://raw.githubusercontent.com/sandovalan63/Avance/main/Top%2050%20Fastfood.csv\""
      ],
      "metadata": {
        "id": "Nq78T6eU8GkO"
      },
      "execution_count": 2,
      "outputs": []
    },
    {
      "cell_type": "markdown",
      "source": [
        "# Top 50 Fast Food Chains in USA\n"
      ],
      "metadata": {
        "id": "xdimwXtm6Zw8"
      }
    },
    {
      "cell_type": "markdown",
      "source": [
        "Esta base de datos contiene los datos de las 50 cadenas de comida rápida más grandes en USA"
      ],
      "metadata": {
        "id": "crd7iQDC65Ki"
      }
    },
    {
      "cell_type": "markdown",
      "source": [
        "Las variables que se utilizarán son: \n",
        "\n",
        "# Categóricas: \n",
        "\n",
        "Nombres: Nombre de la cadena de comida rápida\n",
        "\n",
        "# Cuantitativas: \n",
        "\n",
        "Ventas: Ventas totales en millones de dólares estadounidenses en el año 2021\n",
        "\n",
        "Promedio Ventas Unidad: Promedio de ventas por unidad en miles de dólares \n",
        "estadounidenses\n",
        "\n",
        "N Franquicias: Número de tiendas franquiciadas\n",
        "\n",
        "N Tiendas propias: Número de tiendas propias\n",
        "\n",
        "Tiendas totales: Número total de tiendas\n",
        "\n",
        "Diferencia del 2020: Cambio total en el número de tiendas desde el año 2020."
      ],
      "metadata": {
        "id": "mi1DyGhA7Hkn"
      }
    },
    {
      "cell_type": "code",
      "source": [
        "import pandas as pd\n",
        "import numpy as np"
      ],
      "metadata": {
        "id": "i5xqaUoUMpVO"
      },
      "execution_count": 3,
      "outputs": []
    },
    {
      "cell_type": "code",
      "source": [
        "df = pd.read_csv(p)\n",
        "df.index"
      ],
      "metadata": {
        "id": "5DJwPprpM0-w",
        "colab": {
          "base_uri": "https://localhost:8080/"
        },
        "outputId": "b3b9543c-cb46-49b4-97a2-52862195efc4"
      },
      "execution_count": 4,
      "outputs": [
        {
          "output_type": "execute_result",
          "data": {
            "text/plain": [
              "RangeIndex(start=0, stop=50, step=1)"
            ]
          },
          "metadata": {},
          "execution_count": 4
        }
      ]
    },
    {
      "cell_type": "code",
      "source": [
        "df.isnull().any().sum"
      ],
      "metadata": {
        "colab": {
          "base_uri": "https://localhost:8080/"
        },
        "id": "mNq5pBTG7rwZ",
        "outputId": "561d1f45-5c86-4977-b72f-79e3ff34e9f9"
      },
      "execution_count": 5,
      "outputs": [
        {
          "output_type": "execute_result",
          "data": {
            "text/plain": [
              "<bound method NDFrame._add_numeric_operations.<locals>.sum of Fast-Food Chains                                    False\n",
              "U.S. Systemwide Sales (Millions - U.S Dollars)      False\n",
              "Average Sales per Unit (Thousands - U.S Dollars)    False\n",
              "Franchised Stores                                   False\n",
              "Company Stores                                      False\n",
              "2021 Total Units                                    False\n",
              "Total Change in Units from 2020                     False\n",
              "dtype: bool>"
            ]
          },
          "metadata": {},
          "execution_count": 5
        }
      ]
    },
    {
      "cell_type": "code",
      "source": [
        "df.head(5)"
      ],
      "metadata": {
        "colab": {
          "base_uri": "https://localhost:8080/",
          "height": 267
        },
        "id": "k0qUzgvsD9EG",
        "outputId": "cbd3a485-11af-49bb-f011-f6a87c074743"
      },
      "execution_count": 6,
      "outputs": [
        {
          "output_type": "execute_result",
          "data": {
            "text/plain": [
              "  Fast-Food Chains  U.S. Systemwide Sales (Millions - U.S Dollars)  \\\n",
              "0           Arby’s                                            4462   \n",
              "1   Baskin-Robbins                                             686   \n",
              "2        Bojangles                                            1485   \n",
              "3      Burger King                                           10033   \n",
              "4       Carl’s Jr.                                            1560   \n",
              "\n",
              "   Average Sales per Unit (Thousands - U.S Dollars)  Franchised Stores  \\\n",
              "0                                              1309               2293   \n",
              "1                                               296               2317   \n",
              "2                                              1924                496   \n",
              "3                                              1470               7054   \n",
              "4                                              1400               1011   \n",
              "\n",
              "   Company Stores  2021 Total Units  Total Change in Units from 2020  \n",
              "0            1116              3409                               40  \n",
              "1               0              2317                              102  \n",
              "2             277               773                               15  \n",
              "3              51              7105                               24  \n",
              "4              47              1058                              -21  "
            ],
            "text/html": [
              "\n",
              "  <div id=\"df-2ac79f2f-bad5-40a7-83c9-f754965d3044\">\n",
              "    <div class=\"colab-df-container\">\n",
              "      <div>\n",
              "<style scoped>\n",
              "    .dataframe tbody tr th:only-of-type {\n",
              "        vertical-align: middle;\n",
              "    }\n",
              "\n",
              "    .dataframe tbody tr th {\n",
              "        vertical-align: top;\n",
              "    }\n",
              "\n",
              "    .dataframe thead th {\n",
              "        text-align: right;\n",
              "    }\n",
              "</style>\n",
              "<table border=\"1\" class=\"dataframe\">\n",
              "  <thead>\n",
              "    <tr style=\"text-align: right;\">\n",
              "      <th></th>\n",
              "      <th>Fast-Food Chains</th>\n",
              "      <th>U.S. Systemwide Sales (Millions - U.S Dollars)</th>\n",
              "      <th>Average Sales per Unit (Thousands - U.S Dollars)</th>\n",
              "      <th>Franchised Stores</th>\n",
              "      <th>Company Stores</th>\n",
              "      <th>2021 Total Units</th>\n",
              "      <th>Total Change in Units from 2020</th>\n",
              "    </tr>\n",
              "  </thead>\n",
              "  <tbody>\n",
              "    <tr>\n",
              "      <th>0</th>\n",
              "      <td>Arby’s</td>\n",
              "      <td>4462</td>\n",
              "      <td>1309</td>\n",
              "      <td>2293</td>\n",
              "      <td>1116</td>\n",
              "      <td>3409</td>\n",
              "      <td>40</td>\n",
              "    </tr>\n",
              "    <tr>\n",
              "      <th>1</th>\n",
              "      <td>Baskin-Robbins</td>\n",
              "      <td>686</td>\n",
              "      <td>296</td>\n",
              "      <td>2317</td>\n",
              "      <td>0</td>\n",
              "      <td>2317</td>\n",
              "      <td>102</td>\n",
              "    </tr>\n",
              "    <tr>\n",
              "      <th>2</th>\n",
              "      <td>Bojangles</td>\n",
              "      <td>1485</td>\n",
              "      <td>1924</td>\n",
              "      <td>496</td>\n",
              "      <td>277</td>\n",
              "      <td>773</td>\n",
              "      <td>15</td>\n",
              "    </tr>\n",
              "    <tr>\n",
              "      <th>3</th>\n",
              "      <td>Burger King</td>\n",
              "      <td>10033</td>\n",
              "      <td>1470</td>\n",
              "      <td>7054</td>\n",
              "      <td>51</td>\n",
              "      <td>7105</td>\n",
              "      <td>24</td>\n",
              "    </tr>\n",
              "    <tr>\n",
              "      <th>4</th>\n",
              "      <td>Carl’s Jr.</td>\n",
              "      <td>1560</td>\n",
              "      <td>1400</td>\n",
              "      <td>1011</td>\n",
              "      <td>47</td>\n",
              "      <td>1058</td>\n",
              "      <td>-21</td>\n",
              "    </tr>\n",
              "  </tbody>\n",
              "</table>\n",
              "</div>\n",
              "      <button class=\"colab-df-convert\" onclick=\"convertToInteractive('df-2ac79f2f-bad5-40a7-83c9-f754965d3044')\"\n",
              "              title=\"Convert this dataframe to an interactive table.\"\n",
              "              style=\"display:none;\">\n",
              "        \n",
              "  <svg xmlns=\"http://www.w3.org/2000/svg\" height=\"24px\"viewBox=\"0 0 24 24\"\n",
              "       width=\"24px\">\n",
              "    <path d=\"M0 0h24v24H0V0z\" fill=\"none\"/>\n",
              "    <path d=\"M18.56 5.44l.94 2.06.94-2.06 2.06-.94-2.06-.94-.94-2.06-.94 2.06-2.06.94zm-11 1L8.5 8.5l.94-2.06 2.06-.94-2.06-.94L8.5 2.5l-.94 2.06-2.06.94zm10 10l.94 2.06.94-2.06 2.06-.94-2.06-.94-.94-2.06-.94 2.06-2.06.94z\"/><path d=\"M17.41 7.96l-1.37-1.37c-.4-.4-.92-.59-1.43-.59-.52 0-1.04.2-1.43.59L10.3 9.45l-7.72 7.72c-.78.78-.78 2.05 0 2.83L4 21.41c.39.39.9.59 1.41.59.51 0 1.02-.2 1.41-.59l7.78-7.78 2.81-2.81c.8-.78.8-2.07 0-2.86zM5.41 20L4 18.59l7.72-7.72 1.47 1.35L5.41 20z\"/>\n",
              "  </svg>\n",
              "      </button>\n",
              "      \n",
              "  <style>\n",
              "    .colab-df-container {\n",
              "      display:flex;\n",
              "      flex-wrap:wrap;\n",
              "      gap: 12px;\n",
              "    }\n",
              "\n",
              "    .colab-df-convert {\n",
              "      background-color: #E8F0FE;\n",
              "      border: none;\n",
              "      border-radius: 50%;\n",
              "      cursor: pointer;\n",
              "      display: none;\n",
              "      fill: #1967D2;\n",
              "      height: 32px;\n",
              "      padding: 0 0 0 0;\n",
              "      width: 32px;\n",
              "    }\n",
              "\n",
              "    .colab-df-convert:hover {\n",
              "      background-color: #E2EBFA;\n",
              "      box-shadow: 0px 1px 2px rgba(60, 64, 67, 0.3), 0px 1px 3px 1px rgba(60, 64, 67, 0.15);\n",
              "      fill: #174EA6;\n",
              "    }\n",
              "\n",
              "    [theme=dark] .colab-df-convert {\n",
              "      background-color: #3B4455;\n",
              "      fill: #D2E3FC;\n",
              "    }\n",
              "\n",
              "    [theme=dark] .colab-df-convert:hover {\n",
              "      background-color: #434B5C;\n",
              "      box-shadow: 0px 1px 3px 1px rgba(0, 0, 0, 0.15);\n",
              "      filter: drop-shadow(0px 1px 2px rgba(0, 0, 0, 0.3));\n",
              "      fill: #FFFFFF;\n",
              "    }\n",
              "  </style>\n",
              "\n",
              "      <script>\n",
              "        const buttonEl =\n",
              "          document.querySelector('#df-2ac79f2f-bad5-40a7-83c9-f754965d3044 button.colab-df-convert');\n",
              "        buttonEl.style.display =\n",
              "          google.colab.kernel.accessAllowed ? 'block' : 'none';\n",
              "\n",
              "        async function convertToInteractive(key) {\n",
              "          const element = document.querySelector('#df-2ac79f2f-bad5-40a7-83c9-f754965d3044');\n",
              "          const dataTable =\n",
              "            await google.colab.kernel.invokeFunction('convertToInteractive',\n",
              "                                                     [key], {});\n",
              "          if (!dataTable) return;\n",
              "\n",
              "          const docLinkHtml = 'Like what you see? Visit the ' +\n",
              "            '<a target=\"_blank\" href=https://colab.research.google.com/notebooks/data_table.ipynb>data table notebook</a>'\n",
              "            + ' to learn more about interactive tables.';\n",
              "          element.innerHTML = '';\n",
              "          dataTable['output_type'] = 'display_data';\n",
              "          await google.colab.output.renderOutput(dataTable, element);\n",
              "          const docLink = document.createElement('div');\n",
              "          docLink.innerHTML = docLinkHtml;\n",
              "          element.appendChild(docLink);\n",
              "        }\n",
              "      </script>\n",
              "    </div>\n",
              "  </div>\n",
              "  "
            ]
          },
          "metadata": {},
          "execution_count": 6
        }
      ]
    },
    {
      "cell_type": "code",
      "source": [
        "df = df.rename(columns={'Fast-Food Chains':'Nombres', 'U.S. Systemwide Sales (Millions - U.S Dollars)': 'Ventas', 'Average Sales per Unit (Thousands - U.S Dollars)' : 'Promedio Ventas Unidad', 'Franchised Stores' : 'N Franquicias', 'Company Stores' : 'N Tiendas propias', '2021 Total Units' : 'Tiendas totales', 'Total Change in Units from 2020' : 'Diferencia del 2020'})\n",
        "df.columns"
      ],
      "metadata": {
        "colab": {
          "base_uri": "https://localhost:8080/"
        },
        "id": "sFXTwYiXR_1x",
        "outputId": "8957a89c-f174-4601-ab8d-aa356615aeeb"
      },
      "execution_count": 7,
      "outputs": [
        {
          "output_type": "execute_result",
          "data": {
            "text/plain": [
              "Index(['Nombres', 'Ventas', 'Promedio Ventas Unidad', 'N Franquicias',\n",
              "       'N Tiendas propias', 'Tiendas totales', 'Diferencia del 2020'],\n",
              "      dtype='object')"
            ]
          },
          "metadata": {},
          "execution_count": 7
        }
      ]
    },
    {
      "cell_type": "markdown",
      "source": [
        "Cambiamos el nombre de las variables al español \n",
        "para que sea más fácil escribir"
      ],
      "metadata": {
        "id": "ByAltMJGAIbi"
      }
    },
    {
      "cell_type": "markdown",
      "source": [
        "## P1 Qué tienda tiene el mayor número de franquicias?"
      ],
      "metadata": {
        "id": "IZ5zwIqdc4bn"
      }
    },
    {
      "cell_type": "code",
      "source": [
        "tabla = pd.pivot_table(df,\n",
        "                       index = 'Nombres',\n",
        "                       values = ['N Franquicias'],               \n",
        ")\n",
        "tabla_ordenada = tabla.sort_values('N Franquicias', ascending = False)\n",
        "tabla_ordenada.head(1)"
      ],
      "metadata": {
        "id": "AEGRhnXtNIf_",
        "colab": {
          "base_uri": "https://localhost:8080/",
          "height": 112
        },
        "outputId": "43b1fd3f-d641-45f5-ea8d-79025fd64ec9"
      },
      "execution_count": 8,
      "outputs": [
        {
          "output_type": "execute_result",
          "data": {
            "text/plain": [
              "         N Franquicias\n",
              "Nombres               \n",
              "Subway           21147"
            ],
            "text/html": [
              "\n",
              "  <div id=\"df-0767cbdd-68e2-45cb-afbf-c5262ca3478b\">\n",
              "    <div class=\"colab-df-container\">\n",
              "      <div>\n",
              "<style scoped>\n",
              "    .dataframe tbody tr th:only-of-type {\n",
              "        vertical-align: middle;\n",
              "    }\n",
              "\n",
              "    .dataframe tbody tr th {\n",
              "        vertical-align: top;\n",
              "    }\n",
              "\n",
              "    .dataframe thead th {\n",
              "        text-align: right;\n",
              "    }\n",
              "</style>\n",
              "<table border=\"1\" class=\"dataframe\">\n",
              "  <thead>\n",
              "    <tr style=\"text-align: right;\">\n",
              "      <th></th>\n",
              "      <th>N Franquicias</th>\n",
              "    </tr>\n",
              "    <tr>\n",
              "      <th>Nombres</th>\n",
              "      <th></th>\n",
              "    </tr>\n",
              "  </thead>\n",
              "  <tbody>\n",
              "    <tr>\n",
              "      <th>Subway</th>\n",
              "      <td>21147</td>\n",
              "    </tr>\n",
              "  </tbody>\n",
              "</table>\n",
              "</div>\n",
              "      <button class=\"colab-df-convert\" onclick=\"convertToInteractive('df-0767cbdd-68e2-45cb-afbf-c5262ca3478b')\"\n",
              "              title=\"Convert this dataframe to an interactive table.\"\n",
              "              style=\"display:none;\">\n",
              "        \n",
              "  <svg xmlns=\"http://www.w3.org/2000/svg\" height=\"24px\"viewBox=\"0 0 24 24\"\n",
              "       width=\"24px\">\n",
              "    <path d=\"M0 0h24v24H0V0z\" fill=\"none\"/>\n",
              "    <path d=\"M18.56 5.44l.94 2.06.94-2.06 2.06-.94-2.06-.94-.94-2.06-.94 2.06-2.06.94zm-11 1L8.5 8.5l.94-2.06 2.06-.94-2.06-.94L8.5 2.5l-.94 2.06-2.06.94zm10 10l.94 2.06.94-2.06 2.06-.94-2.06-.94-.94-2.06-.94 2.06-2.06.94z\"/><path d=\"M17.41 7.96l-1.37-1.37c-.4-.4-.92-.59-1.43-.59-.52 0-1.04.2-1.43.59L10.3 9.45l-7.72 7.72c-.78.78-.78 2.05 0 2.83L4 21.41c.39.39.9.59 1.41.59.51 0 1.02-.2 1.41-.59l7.78-7.78 2.81-2.81c.8-.78.8-2.07 0-2.86zM5.41 20L4 18.59l7.72-7.72 1.47 1.35L5.41 20z\"/>\n",
              "  </svg>\n",
              "      </button>\n",
              "      \n",
              "  <style>\n",
              "    .colab-df-container {\n",
              "      display:flex;\n",
              "      flex-wrap:wrap;\n",
              "      gap: 12px;\n",
              "    }\n",
              "\n",
              "    .colab-df-convert {\n",
              "      background-color: #E8F0FE;\n",
              "      border: none;\n",
              "      border-radius: 50%;\n",
              "      cursor: pointer;\n",
              "      display: none;\n",
              "      fill: #1967D2;\n",
              "      height: 32px;\n",
              "      padding: 0 0 0 0;\n",
              "      width: 32px;\n",
              "    }\n",
              "\n",
              "    .colab-df-convert:hover {\n",
              "      background-color: #E2EBFA;\n",
              "      box-shadow: 0px 1px 2px rgba(60, 64, 67, 0.3), 0px 1px 3px 1px rgba(60, 64, 67, 0.15);\n",
              "      fill: #174EA6;\n",
              "    }\n",
              "\n",
              "    [theme=dark] .colab-df-convert {\n",
              "      background-color: #3B4455;\n",
              "      fill: #D2E3FC;\n",
              "    }\n",
              "\n",
              "    [theme=dark] .colab-df-convert:hover {\n",
              "      background-color: #434B5C;\n",
              "      box-shadow: 0px 1px 3px 1px rgba(0, 0, 0, 0.15);\n",
              "      filter: drop-shadow(0px 1px 2px rgba(0, 0, 0, 0.3));\n",
              "      fill: #FFFFFF;\n",
              "    }\n",
              "  </style>\n",
              "\n",
              "      <script>\n",
              "        const buttonEl =\n",
              "          document.querySelector('#df-0767cbdd-68e2-45cb-afbf-c5262ca3478b button.colab-df-convert');\n",
              "        buttonEl.style.display =\n",
              "          google.colab.kernel.accessAllowed ? 'block' : 'none';\n",
              "\n",
              "        async function convertToInteractive(key) {\n",
              "          const element = document.querySelector('#df-0767cbdd-68e2-45cb-afbf-c5262ca3478b');\n",
              "          const dataTable =\n",
              "            await google.colab.kernel.invokeFunction('convertToInteractive',\n",
              "                                                     [key], {});\n",
              "          if (!dataTable) return;\n",
              "\n",
              "          const docLinkHtml = 'Like what you see? Visit the ' +\n",
              "            '<a target=\"_blank\" href=https://colab.research.google.com/notebooks/data_table.ipynb>data table notebook</a>'\n",
              "            + ' to learn more about interactive tables.';\n",
              "          element.innerHTML = '';\n",
              "          dataTable['output_type'] = 'display_data';\n",
              "          await google.colab.output.renderOutput(dataTable, element);\n",
              "          const docLink = document.createElement('div');\n",
              "          docLink.innerHTML = docLinkHtml;\n",
              "          element.appendChild(docLink);\n",
              "        }\n",
              "      </script>\n",
              "    </div>\n",
              "  </div>\n",
              "  "
            ]
          },
          "metadata": {},
          "execution_count": 8
        }
      ]
    },
    {
      "cell_type": "markdown",
      "source": [
        "Aquí podemos ver que Subway tiene el mayor número de franquicias con 21,147 franquicias"
      ],
      "metadata": {
        "id": "vdfFEUKBCwhy"
      }
    },
    {
      "cell_type": "markdown",
      "source": [
        "## P2 ¿Cuales son las 5 Fast Food Chains con mayor número de ventas?\n",
        "\n"
      ],
      "metadata": {
        "id": "sC5AlGL6Cb6h"
      }
    },
    {
      "cell_type": "code",
      "source": [
        "import matplotlib as mpl\n",
        "import matplotlib.pyplot as plt"
      ],
      "metadata": {
        "id": "dqzYIiv4Uybg"
      },
      "execution_count": 9,
      "outputs": []
    },
    {
      "cell_type": "code",
      "source": [
        "top_cadenas = df.groupby('Nombres')['Ventas'].sum().nlargest(5)\n",
        "\n",
        "colors = ['gold', 'skyblue', 'yellowgreen', 'coral', 'pink']\n",
        "\n",
        "plt.bar(top_cadenas.index, top_cadenas.values, color = colors)\n",
        "\n",
        "\n",
        "\n",
        "plt.title('Top 5 Cadenas con más ventas')\n",
        "plt.xlabel('Fast Food Chains')\n",
        "plt.ylabel('Ventas en millones de dólares')\n",
        "\n"
      ],
      "metadata": {
        "colab": {
          "base_uri": "https://localhost:8080/",
          "height": 312
        },
        "id": "4ZjpMB948l3_",
        "outputId": "1c2a5ebd-2c3e-44d9-e8a6-4e60acb96bf4"
      },
      "execution_count": 10,
      "outputs": [
        {
          "output_type": "execute_result",
          "data": {
            "text/plain": [
              "Text(0, 0.5, 'Ventas en millones de dólares')"
            ]
          },
          "metadata": {},
          "execution_count": 10
        },
        {
          "output_type": "display_data",
          "data": {
            "text/plain": [
              "<Figure size 432x288 with 1 Axes>"
            ],
            "image/png": "[encoded data removed]"
          },
          "metadata": {
            "needs_background": "light"
          }
        }
      ]
    },
    {
      "cell_type": "markdown",
      "source": [
        "Como resultado, en la gráfica podemos observar que las 5 cadenas con más ventas son: McDonalds, Starbucks, Chick fil-A, Taco Bell y Wendys"
      ],
      "metadata": {
        "id": "borrQSPnDQSy"
      }
    },
    {
      "cell_type": "markdown",
      "source": [
        "# P3 ¿Cuales son las 5 Fast Food Chains con mayor número de franquicias?"
      ],
      "metadata": {
        "id": "VsprYokG5z8i"
      }
    },
    {
      "cell_type": "code",
      "source": [
        "df = df.sort_values('N Franquicias', ascending=False)\n",
        "\n",
        "df_top5 = df.head(5)\n",
        "\n",
        "plt.bar(df_top5['Nombres'], df_top5['N Franquicias'])\n",
        "\n",
        "plt.xlabel('Fast Food Chains')\n",
        "plt.ylabel('Número de Franquicias')\n",
        "plt.title('Distribución de las 5 cadenas con más franquicias')\n",
        "\n",
        "plt.show()"
      ],
      "metadata": {
        "colab": {
          "base_uri": "https://localhost:8080/",
          "height": 295
        },
        "id": "f88k8Nmh6Rbh",
        "outputId": "7d56a95c-4e6c-40eb-e3c4-7bdef06ea91e"
      },
      "execution_count": 11,
      "outputs": [
        {
          "output_type": "display_data",
          "data": {
            "text/plain": [
              "<Figure size 432x288 with 1 Axes>"
            ],
            "image/png": "[encoded data removed]"
          },
          "metadata": {
            "needs_background": "light"
          }
        }
      ]
    },
    {
      "cell_type": "markdown",
      "source": [
        "En el histograma, podemos ver que la cadena con más franquicias es Subway, después Mcdonalds, Dunkin, Burger King y Taco Bell"
      ],
      "metadata": {
        "id": "UO1ouqL3Az3m"
      }
    },
    {
      "cell_type": "code",
      "source": [],
      "metadata": {
        "id": "WDyVt6-X6w0F"
      },
      "execution_count": 11,
      "outputs": []
    },
    {
      "cell_type": "markdown",
      "source": [
        "# P4 ¿Existe una relación entre la cantidad de franquicias y las ventas totales de una cadena de comida rápida?"
      ],
      "metadata": {
        "id": "3HuuwvzJBZyk"
      }
    },
    {
      "cell_type": "code",
      "source": [
        "import seaborn as sns\n",
        "\n",
        "df_relevant = df[['N Franquicias', 'Ventas']]\n",
        "\n",
        "sns.regplot(x='N Franquicias', y='Ventas', data=df_relevant)\n",
        "\n",
        "plt.xlabel('Número de Franquicias')\n",
        "plt.ylabel('Ventas Totales (Millones de Dólares)')\n",
        "plt.title('Relación entre Franquicias y Ventas Totales')"
      ],
      "metadata": {
        "colab": {
          "base_uri": "https://localhost:8080/",
          "height": 313
        },
        "id": "Dl7Il2OyBbvn",
        "outputId": "0f9eeed3-7f04-4c5e-cada-fe26c6eafe9a"
      },
      "execution_count": 12,
      "outputs": [
        {
          "output_type": "execute_result",
          "data": {
            "text/plain": [
              "Text(0.5, 1.0, 'Relación entre Franquicias y Ventas Totales')"
            ]
          },
          "metadata": {},
          "execution_count": 12
        },
        {
          "output_type": "display_data",
          "data": {
            "text/plain": [
              "<Figure size 432x288 with 1 Axes>"
            ],
            "image/png": "[encoded data removed]"
          },
          "metadata": {
            "needs_background": "light"
          }
        }
      ]
    },
    {
      "cell_type": "markdown",
      "source": [],
      "metadata": {
        "id": "fZQ0AGKfA_OY"
      }
    },
    {
      "cell_type": "code",
      "source": [],
      "metadata": {
        "id": "kU6IX-TQBe2n"
      },
      "execution_count": 12,
      "outputs": []
    },
    {
      "cell_type": "markdown",
      "source": [
        "# P5 ¿Cuál es la distribución porcentual de las ventas totales de las 5 cadenas de comida rápida con mayor cantidad de franquicias en 2021?"
      ],
      "metadata": {
        "id": "o9ebPYLVC3Ug"
      }
    },
    {
      "cell_type": "code",
      "source": [
        "df_top_franchises = df.nlargest(5, 'N Franquicias')\n",
        "labels = df_top_franchises['Nombres']\n",
        "sizes = df_top_franchises['Ventas']\n",
        "\n",
        "fig, ax = plt.subplots()\n",
        "ax.pie(sizes, labels=labels, autopct='%1.1f%%', startangle=90)\n",
        "ax.axis('equal')\n",
        "ax.set_title('Distribución porcentual de ventas de las 5 cadenas con mayor cantidad de franquicias')\n",
        "\n",
        "plt.show()"
      ],
      "metadata": {
        "colab": {
          "base_uri": "https://localhost:8080/",
          "height": 264
        },
        "id": "bTJ1HzwIC5yU",
        "outputId": "9403d4a9-7bb8-4068-cad5-c971e71111f2"
      },
      "execution_count": 13,
      "outputs": [
        {
          "output_type": "display_data",
          "data": {
            "text/plain": [
              "<Figure size 432x288 with 1 Axes>"
            ],
            "image/png": "[encoded data removed]"
          },
          "metadata": {}
        }
      ]
    },
    {
      "cell_type": "markdown",
      "source": [
        "Aquí podemos observar que Mcdonalds es la cadena con mayor distribución porcentual con mayor cantidad de franquicias, seguido de subway, taco bell, dunkin y burger king"
      ],
      "metadata": {
        "id": "CPpL2CZ0FCad"
      }
    },
    {
      "cell_type": "code",
      "source": [],
      "metadata": {
        "id": "qmJjLWNQC8Rh"
      },
      "execution_count": 13,
      "outputs": []
    },
    {
      "cell_type": "markdown",
      "source": [
        "## P6 ¿Existe una relación entre el número de tiendas propias y el promedio de ventas por unidad en las cadenas de comida rápida en 2021?"
      ],
      "metadata": {
        "id": "Shvgqw5YEPME"
      }
    },
    {
      "cell_type": "code",
      "source": [
        "x = df['N Tiendas propias']\n",
        "y = df['Promedio Ventas Unidad']\n",
        "\n",
        "\n",
        "corr = np.corrcoef(x, y)[0, 1]\n",
        "\n",
        "print(f'La correlación entre el número de tiendas propias y el promedio de ventas por unidad es: {corr}')"
      ],
      "metadata": {
        "colab": {
          "base_uri": "https://localhost:8080/"
        },
        "id": "dUiqwOqeEQxK",
        "outputId": "d68501f2-8365-4acd-9ba6-0ce1b69fa353"
      },
      "execution_count": 15,
      "outputs": [
        {
          "output_type": "stream",
          "name": "stdout",
          "text": [
            "La correlación entre el número de tiendas propias y el promedio de ventas por unidad es: 0.0215433731811128\n"
          ]
        }
      ]
    },
    {
      "cell_type": "markdown",
      "source": [
        "Como podemos ver, el coeficiente de correlación es de 0.021 lo que se aproxima a 0, por lo que concluimos que si existe una correlación pero no es muy fuerte"
      ],
      "metadata": {
        "id": "7fiZA7c5CAiw"
      }
    },
    {
      "cell_type": "code",
      "source": [],
      "metadata": {
        "id": "ZLyXmQ1_FRGK"
      },
      "execution_count": 15,
      "outputs": []
    },
    {
      "cell_type": "markdown",
      "source": [
        "P7 ¿Existe una relación lineal entre la diferencia del 2020 y las ventas totales de las cadenas de comida rápida?"
      ],
      "metadata": {
        "id": "W_aQpvrJJBIo"
      }
    },
    {
      "cell_type": "code",
      "source": [
        "df = df.sort_values('Ventas', ascending=False).head(5)\n",
        "\n",
        "X = df[['Diferencia del 2020']] \n",
        "y = df['Ventas'] \n",
        "model = LinearRegression().fit(X, y)\n",
        "\n",
        "y_pred = model.predict(X)\n",
        "\n",
        "plt.scatter(X, y)\n",
        "plt.plot(X, y_pred, color='red')\n",
        "plt.title('Relación entre la diferencia del 2020 y las ventas totales de las 5 cadenas de comida rápida con mayores ventas')\n",
        "plt.xlabel('Diferencia del 2020')\n",
        "plt.ylabel('Ventas Totales')\n",
        "plt.show()"
      ],
      "metadata": {
        "colab": {
          "base_uri": "https://localhost:8080/",
          "height": 295
        },
        "id": "18h-ou-pJBfh",
        "outputId": "0479085f-ab9d-4466-dc2c-617c3be99fe1"
      },
      "execution_count": 23,
      "outputs": [
        {
          "output_type": "display_data",
          "data": {
            "text/plain": [
              "<Figure size 432x288 with 1 Axes>"
            ],
            "image/png": "[encoded data removed]"
          },
          "metadata": {
            "needs_background": "light"
          }
        }
      ]
    },
    {
      "cell_type": "markdown",
      "source": [
        "Aquí podemos observar que hay una regresión lineal positiva entre la diferencia de tiendas del 2020 por cadena y las ventas totales. Lo que nos indica que entre más diferencias más ventas"
      ],
      "metadata": {
        "id": "RfpE43j1J1C9"
      }
    },
    {
      "cell_type": "code",
      "source": [],
      "metadata": {
        "id": "DUq8MvOLJFKJ"
      },
      "execution_count": null,
      "outputs": []
    }
  ]
}