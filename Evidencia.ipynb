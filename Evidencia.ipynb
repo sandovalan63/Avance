{
  "nbformat": 4,
  "nbformat_minor": 0,
  "metadata": {
    "colab": {
      "provenance": [],
      "authorship_tag": "ABX9TyM7C+1bfR+3xWu//80Qh8TT",
      "include_colab_link": true
    },
    "kernelspec": {
      "name": "python3",
      "display_name": "Python 3"
    },
    "language_info": {
      "name": "python"
    }
  },
  "cells": [
    {
      "cell_type": "markdown",
      "metadata": {
        "id": "view-in-github",
        "colab_type": "text"
      },
      "source": [
        "<a href=\"https://colab.research.google.com/github/sandovalan63/Avance/blob/main/Evidencia.ipynb\" target=\"_parent\"><img src=\"https://colab.research.google.com/assets/colab-badge.svg\" alt=\"Open In Colab\"/></a>"
      ]
    },
    {
      "cell_type": "markdown",
      "source": [
        "# Alan Sandoval Balderas A01284578"
      ],
      "metadata": {
        "id": "DmcJivxT8Iuq"
      }
    },
    {
      "cell_type": "code",
      "source": [
        "p = \"https://raw.githubusercontent.com/sandovalan63/Avance/main/Top%2050%20Fastfood.csv\""
      ],
      "metadata": {
        "id": "Nq78T6eU8GkO"
      },
      "execution_count": 207,
      "outputs": []
    },
    {
      "cell_type": "markdown",
      "source": [
        "# Top 50 Fast Food Chains in USA\n"
      ],
      "metadata": {
        "id": "xdimwXtm6Zw8"
      }
    },
    {
      "cell_type": "markdown",
      "source": [
        "Esta base de datos contiene los datos de las 50 cadenas de comida rápida más grandes en USA"
      ],
      "metadata": {
        "id": "crd7iQDC65Ki"
      }
    },
    {
      "cell_type": "markdown",
      "source": [
        "Las variables que se utilizarán son: \n",
        "\n",
        "# Categóricas: \n",
        "\n",
        "Nombres: Nombre de la cadena de comida rápida\n",
        "\n",
        "# Cuantitativas: \n",
        "\n",
        "Ventas: Ventas totales en millones de dólares estadounidenses en el año 2021\n",
        "\n",
        "Promedio Ventas Unidad: Promedio de ventas por unidad en miles de dólares \n",
        "estadounidenses\n",
        "\n",
        "N Franquicias: Número de tiendas franquiciadas\n",
        "\n",
        "N Tiendas propias: Número de tiendas propias\n",
        "\n",
        "Tiendas totales: Número total de tiendas\n",
        "\n",
        "Diferencia del 2020: Cambio total en el número de tiendas desde el año 2020."
      ],
      "metadata": {
        "id": "mi1DyGhA7Hkn"
      }
    },
    {
      "cell_type": "code",
      "source": [
        "import pandas as pd\n",
        "import numpy as np"
      ],
      "metadata": {
        "id": "i5xqaUoUMpVO"
      },
      "execution_count": 208,
      "outputs": []
    },
    {
      "cell_type": "code",
      "source": [
        "df = pd.read_csv(p)\n",
        "df.index"
      ],
      "metadata": {
        "id": "5DJwPprpM0-w",
        "colab": {
          "base_uri": "https://localhost:8080/",
          "height": 0
        },
        "outputId": "46407c52-2ff0-4a9f-b564-4aaf8281e1e5"
      },
      "execution_count": 209,
      "outputs": [
        {
          "output_type": "execute_result",
          "data": {
            "text/plain": [
              "RangeIndex(start=0, stop=50, step=1)"
            ]
          },
          "metadata": {},
          "execution_count": 209
        }
      ]
    },
    {
      "cell_type": "code",
      "source": [
        "df.isnull().any().sum"
      ],
      "metadata": {
        "colab": {
          "base_uri": "https://localhost:8080/",
          "height": 0
        },
        "id": "mNq5pBTG7rwZ",
        "outputId": "b4b299df-b8c9-4b78-af36-10f2815768a7"
      },
      "execution_count": 210,
      "outputs": [
        {
          "output_type": "execute_result",
          "data": {
            "text/plain": [
              "<bound method NDFrame._add_numeric_operations.<locals>.sum of Fast-Food Chains                                    False\n",
              "U.S. Systemwide Sales (Millions - U.S Dollars)      False\n",
              "Average Sales per Unit (Thousands - U.S Dollars)    False\n",
              "Franchised Stores                                   False\n",
              "Company Stores                                      False\n",
              "2021 Total Units                                    False\n",
              "Total Change in Units from 2020                     False\n",
              "dtype: bool>"
            ]
          },
          "metadata": {},
          "execution_count": 210
        }
      ]
    },
    {
      "cell_type": "code",
      "source": [
        "df.head(50)"
      ],
      "metadata": {
        "colab": {
          "base_uri": "https://localhost:8080/",
          "height": 1695
        },
        "id": "k0qUzgvsD9EG",
        "outputId": "77e944c8-4953-452e-c46b-38ffa41f5171"
      },
      "execution_count": 211,
      "outputs": [
        {
          "output_type": "execute_result",
          "data": {
            "text/plain": [
              "                          Fast-Food Chains  \\\n",
              "0                                   Arby’s   \n",
              "1                           Baskin-Robbins   \n",
              "2                                Bojangles   \n",
              "3                              Burger King   \n",
              "4                               Carl’s Jr.   \n",
              "5                         Checkers/Rally’s   \n",
              "6                              Chick-fil-A   \n",
              "7                                 Chipotle   \n",
              "8                         Church’s Chicken   \n",
              "9                                 Culver’s   \n",
              "10                             Dairy Queen   \n",
              "11                                Del Taco   \n",
              "12                                Domino's   \n",
              "13                                 Dunkin'   \n",
              "14                           El Pollo Loco   \n",
              "15                          Firehouse Subs   \n",
              "16                               Five Guys   \n",
              "17  Freddy’s Frozen Custard & Steakburgers   \n",
              "18                                Hardee’s   \n",
              "19                         In-N-Out Burger   \n",
              "20                         Jack in the Box   \n",
              "21                           Jersey Mike’s   \n",
              "22                            Jimmy John’s   \n",
              "23                                     KFC   \n",
              "24                            Krispy Kreme   \n",
              "25                          Little Caesars   \n",
              "26                           Marco’s Pizza   \n",
              "27                        McAlister’s Deli   \n",
              "28                              McDonald’s   \n",
              "29                   Moe’s Southwest Grill   \n",
              "30                           Panda Express   \n",
              "31                            Panera Bread   \n",
              "32                              Papa Johns   \n",
              "33                           Papa Murphy’s   \n",
              "34                               Pizza Hut   \n",
              "35               Popeyes Louisiana Kitchen   \n",
              "36                                   QDOBA   \n",
              "37                          Raising Cane’s   \n",
              "38                             Shake Shack   \n",
              "39                          Sonic Drive-In   \n",
              "40                               Starbucks   \n",
              "41                                  Subway   \n",
              "42                               Taco Bell   \n",
              "43                             Tim Hortons   \n",
              "44                  Tropical Smoothie Cafe   \n",
              "45                                 Wendy's   \n",
              "46                             Whataburger   \n",
              "47                            White Castle   \n",
              "48                                Wingstop   \n",
              "49                                 Zaxby’s   \n",
              "\n",
              "    U.S. Systemwide Sales (Millions - U.S Dollars)  \\\n",
              "0                                             4462   \n",
              "1                                              686   \n",
              "2                                             1485   \n",
              "3                                            10033   \n",
              "4                                             1560   \n",
              "5                                              931   \n",
              "6                                            16700   \n",
              "7                                             7547   \n",
              "8                                              776   \n",
              "9                                             2489   \n",
              "10                                            4494   \n",
              "11                                             931   \n",
              "12                                            8641   \n",
              "13                                           10416   \n",
              "14                                             973   \n",
              "15                                            1044   \n",
              "16                                            2093   \n",
              "17                                             759   \n",
              "18                                            2100   \n",
              "19                                            1175   \n",
              "20                                            4077   \n",
              "21                                            2203   \n",
              "22                                            2301   \n",
              "23                                            5100   \n",
              "24                                             996   \n",
              "25                                            4185   \n",
              "26                                             899   \n",
              "27                                             869   \n",
              "28                                           45960   \n",
              "29                                             661   \n",
              "30                                            4452   \n",
              "31                                            5650   \n",
              "32                                            3486   \n",
              "33                                             809   \n",
              "34                                            5500   \n",
              "35                                            4775   \n",
              "36                                             835   \n",
              "37                                            2377   \n",
              "38                                             777   \n",
              "39                                            5835   \n",
              "40                                           24300   \n",
              "41                                            9350   \n",
              "42                                           12600   \n",
              "43                                             687   \n",
              "44                                             948   \n",
              "45                                           11111   \n",
              "46                                            3089   \n",
              "47                                             615   \n",
              "48                                            2278   \n",
              "49                                            2233   \n",
              "\n",
              "    Average Sales per Unit (Thousands - U.S Dollars)  Franchised Stores  \\\n",
              "0                                               1309               2293   \n",
              "1                                                296               2317   \n",
              "2                                               1924                496   \n",
              "3                                               1470               7054   \n",
              "4                                               1400               1011   \n",
              "5                                               1145                568   \n",
              "6                                               6100               2650   \n",
              "7                                               2641                  0   \n",
              "8                                                870                731   \n",
              "9                                               3099                831   \n",
              "10                                              1036               4337   \n",
              "11                                              1551                306   \n",
              "12                                              1317               6185   \n",
              "13                                              1127               9244   \n",
              "14                                              2000                292   \n",
              "15                                               909               1101   \n",
              "16                                              3172                911   \n",
              "17                                              1842                391   \n",
              "18                                              1117               1536   \n",
              "19                                              3200                  0   \n",
              "20                                              1843               2055   \n",
              "21                                              1145               2087   \n",
              "22                                               866               2616   \n",
              "23                                              1408               3906   \n",
              "24                                              4000                 51   \n",
              "25                                              1000               3601   \n",
              "26                                               934                957   \n",
              "27                                              1866                472   \n",
              "28                                              3420              12775   \n",
              "29                                              1073                658   \n",
              "30                                              2173                147   \n",
              "31                                              2700               1130   \n",
              "32                                              1147               2564   \n",
              "33                                               643               1213   \n",
              "34                                              1022               6526   \n",
              "35                                              1867               2716   \n",
              "36                                              1006                406   \n",
              "37                                              4893                 23   \n",
              "38                                              3679                 25   \n",
              "39                                              1643               3232   \n",
              "40                                              1200               6497   \n",
              "41                                               438              21147   \n",
              "42                                              1823               6540   \n",
              "43                                              1200                637   \n",
              "44                                              1009               1038   \n",
              "45                                              1895               5535   \n",
              "46                                              3640                131   \n",
              "47                                              1749                  0   \n",
              "48                                              1592               1498   \n",
              "49                                              2484                761   \n",
              "\n",
              "    Company Stores  2021 Total Units  Total Change in Units from 2020  \n",
              "0             1116              3409                               40  \n",
              "1                0              2317                              102  \n",
              "2              277               773                               15  \n",
              "3               51              7105                               24  \n",
              "4               47              1058                              -21  \n",
              "5              266               834                              -13  \n",
              "6               82              2732                              155  \n",
              "7             2966              2966                              198  \n",
              "8              161               892                              -13  \n",
              "9                6               837                               55  \n",
              "10               2              4339                              -22  \n",
              "11             294               600                                4  \n",
              "12             375              6560                              205  \n",
              "13               0              9244                              161  \n",
              "14             189               481                                1  \n",
              "15              39              1140                                9  \n",
              "16             479              1390                                8  \n",
              "17              29               420                               32  \n",
              "18             198              1734                              -32  \n",
              "19             370               370                                5  \n",
              "20             163              2218                              -23  \n",
              "21              13              2100                              246  \n",
              "22              41              2657                               48  \n",
              "23              47              3953                               10  \n",
              "24             307               358                                6  \n",
              "25             580              4181                              -28  \n",
              "26              45              1002                               48  \n",
              "27              33               505                               24  \n",
              "28             663             13438                              244  \n",
              "29               1               659                              -22  \n",
              "30            2187              2334                              150  \n",
              "31             950              2080                              -25  \n",
              "32             600              3164                               30  \n",
              "33              27              1240                              -53  \n",
              "34              22              6548                              -13  \n",
              "35              41              2754                              146  \n",
              "36             333               739                                2  \n",
              "37             544               567                               58  \n",
              "38             218               243                               38  \n",
              "39             320              3552                               26  \n",
              "40            8953             15450                              113  \n",
              "41               0             21147                            -1043  \n",
              "42             462              7002                              203  \n",
              "43               0               637                                4  \n",
              "44               1              1039                              125  \n",
              "45             403              5938                               57  \n",
              "46             742               873                               29  \n",
              "47             349               349                               -6  \n",
              "48              36              1534                              175  \n",
              "49             147               908                                3  "
            ],
            "text/html": [
              "\n",
              "  <div id=\"df-d2612a57-4074-450e-9e1a-6e5b3f766eee\">\n",
              "    <div class=\"colab-df-container\">\n",
              "      <div>\n",
              "<style scoped>\n",
              "    .dataframe tbody tr th:only-of-type {\n",
              "        vertical-align: middle;\n",
              "    }\n",
              "\n",
              "    .dataframe tbody tr th {\n",
              "        vertical-align: top;\n",
              "    }\n",
              "\n",
              "    .dataframe thead th {\n",
              "        text-align: right;\n",
              "    }\n",
              "</style>\n",
              "<table border=\"1\" class=\"dataframe\">\n",
              "  <thead>\n",
              "    <tr style=\"text-align: right;\">\n",
              "      <th></th>\n",
              "      <th>Fast-Food Chains</th>\n",
              "      <th>U.S. Systemwide Sales (Millions - U.S Dollars)</th>\n",
              "      <th>Average Sales per Unit (Thousands - U.S Dollars)</th>\n",
              "      <th>Franchised Stores</th>\n",
              "      <th>Company Stores</th>\n",
              "      <th>2021 Total Units</th>\n",
              "      <th>Total Change in Units from 2020</th>\n",
              "    </tr>\n",
              "  </thead>\n",
              "  <tbody>\n",
              "    <tr>\n",
              "      <th>0</th>\n",
              "      <td>Arby’s</td>\n",
              "      <td>4462</td>\n",
              "      <td>1309</td>\n",
              "      <td>2293</td>\n",
              "      <td>1116</td>\n",
              "      <td>3409</td>\n",
              "      <td>40</td>\n",
              "    </tr>\n",
              "    <tr>\n",
              "      <th>1</th>\n",
              "      <td>Baskin-Robbins</td>\n",
              "      <td>686</td>\n",
              "      <td>296</td>\n",
              "      <td>2317</td>\n",
              "      <td>0</td>\n",
              "      <td>2317</td>\n",
              "      <td>102</td>\n",
              "    </tr>\n",
              "    <tr>\n",
              "      <th>2</th>\n",
              "      <td>Bojangles</td>\n",
              "      <td>1485</td>\n",
              "      <td>1924</td>\n",
              "      <td>496</td>\n",
              "      <td>277</td>\n",
              "      <td>773</td>\n",
              "      <td>15</td>\n",
              "    </tr>\n",
              "    <tr>\n",
              "      <th>3</th>\n",
              "      <td>Burger King</td>\n",
              "      <td>10033</td>\n",
              "      <td>1470</td>\n",
              "      <td>7054</td>\n",
              "      <td>51</td>\n",
              "      <td>7105</td>\n",
              "      <td>24</td>\n",
              "    </tr>\n",
              "    <tr>\n",
              "      <th>4</th>\n",
              "      <td>Carl’s Jr.</td>\n",
              "      <td>1560</td>\n",
              "      <td>1400</td>\n",
              "      <td>1011</td>\n",
              "      <td>47</td>\n",
              "      <td>1058</td>\n",
              "      <td>-21</td>\n",
              "    </tr>\n",
              "    <tr>\n",
              "      <th>5</th>\n",
              "      <td>Checkers/Rally’s</td>\n",
              "      <td>931</td>\n",
              "      <td>1145</td>\n",
              "      <td>568</td>\n",
              "      <td>266</td>\n",
              "      <td>834</td>\n",
              "      <td>-13</td>\n",
              "    </tr>\n",
              "    <tr>\n",
              "      <th>6</th>\n",
              "      <td>Chick-fil-A</td>\n",
              "      <td>16700</td>\n",
              "      <td>6100</td>\n",
              "      <td>2650</td>\n",
              "      <td>82</td>\n",
              "      <td>2732</td>\n",
              "      <td>155</td>\n",
              "    </tr>\n",
              "    <tr>\n",
              "      <th>7</th>\n",
              "      <td>Chipotle</td>\n",
              "      <td>7547</td>\n",
              "      <td>2641</td>\n",
              "      <td>0</td>\n",
              "      <td>2966</td>\n",
              "      <td>2966</td>\n",
              "      <td>198</td>\n",
              "    </tr>\n",
              "    <tr>\n",
              "      <th>8</th>\n",
              "      <td>Church’s Chicken</td>\n",
              "      <td>776</td>\n",
              "      <td>870</td>\n",
              "      <td>731</td>\n",
              "      <td>161</td>\n",
              "      <td>892</td>\n",
              "      <td>-13</td>\n",
              "    </tr>\n",
              "    <tr>\n",
              "      <th>9</th>\n",
              "      <td>Culver’s</td>\n",
              "      <td>2489</td>\n",
              "      <td>3099</td>\n",
              "      <td>831</td>\n",
              "      <td>6</td>\n",
              "      <td>837</td>\n",
              "      <td>55</td>\n",
              "    </tr>\n",
              "    <tr>\n",
              "      <th>10</th>\n",
              "      <td>Dairy Queen</td>\n",
              "      <td>4494</td>\n",
              "      <td>1036</td>\n",
              "      <td>4337</td>\n",
              "      <td>2</td>\n",
              "      <td>4339</td>\n",
              "      <td>-22</td>\n",
              "    </tr>\n",
              "    <tr>\n",
              "      <th>11</th>\n",
              "      <td>Del Taco</td>\n",
              "      <td>931</td>\n",
              "      <td>1551</td>\n",
              "      <td>306</td>\n",
              "      <td>294</td>\n",
              "      <td>600</td>\n",
              "      <td>4</td>\n",
              "    </tr>\n",
              "    <tr>\n",
              "      <th>12</th>\n",
              "      <td>Domino's</td>\n",
              "      <td>8641</td>\n",
              "      <td>1317</td>\n",
              "      <td>6185</td>\n",
              "      <td>375</td>\n",
              "      <td>6560</td>\n",
              "      <td>205</td>\n",
              "    </tr>\n",
              "    <tr>\n",
              "      <th>13</th>\n",
              "      <td>Dunkin'</td>\n",
              "      <td>10416</td>\n",
              "      <td>1127</td>\n",
              "      <td>9244</td>\n",
              "      <td>0</td>\n",
              "      <td>9244</td>\n",
              "      <td>161</td>\n",
              "    </tr>\n",
              "    <tr>\n",
              "      <th>14</th>\n",
              "      <td>El Pollo Loco</td>\n",
              "      <td>973</td>\n",
              "      <td>2000</td>\n",
              "      <td>292</td>\n",
              "      <td>189</td>\n",
              "      <td>481</td>\n",
              "      <td>1</td>\n",
              "    </tr>\n",
              "    <tr>\n",
              "      <th>15</th>\n",
              "      <td>Firehouse Subs</td>\n",
              "      <td>1044</td>\n",
              "      <td>909</td>\n",
              "      <td>1101</td>\n",
              "      <td>39</td>\n",
              "      <td>1140</td>\n",
              "      <td>9</td>\n",
              "    </tr>\n",
              "    <tr>\n",
              "      <th>16</th>\n",
              "      <td>Five Guys</td>\n",
              "      <td>2093</td>\n",
              "      <td>3172</td>\n",
              "      <td>911</td>\n",
              "      <td>479</td>\n",
              "      <td>1390</td>\n",
              "      <td>8</td>\n",
              "    </tr>\n",
              "    <tr>\n",
              "      <th>17</th>\n",
              "      <td>Freddy’s Frozen Custard &amp; Steakburgers</td>\n",
              "      <td>759</td>\n",
              "      <td>1842</td>\n",
              "      <td>391</td>\n",
              "      <td>29</td>\n",
              "      <td>420</td>\n",
              "      <td>32</td>\n",
              "    </tr>\n",
              "    <tr>\n",
              "      <th>18</th>\n",
              "      <td>Hardee’s</td>\n",
              "      <td>2100</td>\n",
              "      <td>1117</td>\n",
              "      <td>1536</td>\n",
              "      <td>198</td>\n",
              "      <td>1734</td>\n",
              "      <td>-32</td>\n",
              "    </tr>\n",
              "    <tr>\n",
              "      <th>19</th>\n",
              "      <td>In-N-Out Burger</td>\n",
              "      <td>1175</td>\n",
              "      <td>3200</td>\n",
              "      <td>0</td>\n",
              "      <td>370</td>\n",
              "      <td>370</td>\n",
              "      <td>5</td>\n",
              "    </tr>\n",
              "    <tr>\n",
              "      <th>20</th>\n",
              "      <td>Jack in the Box</td>\n",
              "      <td>4077</td>\n",
              "      <td>1843</td>\n",
              "      <td>2055</td>\n",
              "      <td>163</td>\n",
              "      <td>2218</td>\n",
              "      <td>-23</td>\n",
              "    </tr>\n",
              "    <tr>\n",
              "      <th>21</th>\n",
              "      <td>Jersey Mike’s</td>\n",
              "      <td>2203</td>\n",
              "      <td>1145</td>\n",
              "      <td>2087</td>\n",
              "      <td>13</td>\n",
              "      <td>2100</td>\n",
              "      <td>246</td>\n",
              "    </tr>\n",
              "    <tr>\n",
              "      <th>22</th>\n",
              "      <td>Jimmy John’s</td>\n",
              "      <td>2301</td>\n",
              "      <td>866</td>\n",
              "      <td>2616</td>\n",
              "      <td>41</td>\n",
              "      <td>2657</td>\n",
              "      <td>48</td>\n",
              "    </tr>\n",
              "    <tr>\n",
              "      <th>23</th>\n",
              "      <td>KFC</td>\n",
              "      <td>5100</td>\n",
              "      <td>1408</td>\n",
              "      <td>3906</td>\n",
              "      <td>47</td>\n",
              "      <td>3953</td>\n",
              "      <td>10</td>\n",
              "    </tr>\n",
              "    <tr>\n",
              "      <th>24</th>\n",
              "      <td>Krispy Kreme</td>\n",
              "      <td>996</td>\n",
              "      <td>4000</td>\n",
              "      <td>51</td>\n",
              "      <td>307</td>\n",
              "      <td>358</td>\n",
              "      <td>6</td>\n",
              "    </tr>\n",
              "    <tr>\n",
              "      <th>25</th>\n",
              "      <td>Little Caesars</td>\n",
              "      <td>4185</td>\n",
              "      <td>1000</td>\n",
              "      <td>3601</td>\n",
              "      <td>580</td>\n",
              "      <td>4181</td>\n",
              "      <td>-28</td>\n",
              "    </tr>\n",
              "    <tr>\n",
              "      <th>26</th>\n",
              "      <td>Marco’s Pizza</td>\n",
              "      <td>899</td>\n",
              "      <td>934</td>\n",
              "      <td>957</td>\n",
              "      <td>45</td>\n",
              "      <td>1002</td>\n",
              "      <td>48</td>\n",
              "    </tr>\n",
              "    <tr>\n",
              "      <th>27</th>\n",
              "      <td>McAlister’s Deli</td>\n",
              "      <td>869</td>\n",
              "      <td>1866</td>\n",
              "      <td>472</td>\n",
              "      <td>33</td>\n",
              "      <td>505</td>\n",
              "      <td>24</td>\n",
              "    </tr>\n",
              "    <tr>\n",
              "      <th>28</th>\n",
              "      <td>McDonald’s</td>\n",
              "      <td>45960</td>\n",
              "      <td>3420</td>\n",
              "      <td>12775</td>\n",
              "      <td>663</td>\n",
              "      <td>13438</td>\n",
              "      <td>244</td>\n",
              "    </tr>\n",
              "    <tr>\n",
              "      <th>29</th>\n",
              "      <td>Moe’s Southwest Grill</td>\n",
              "      <td>661</td>\n",
              "      <td>1073</td>\n",
              "      <td>658</td>\n",
              "      <td>1</td>\n",
              "      <td>659</td>\n",
              "      <td>-22</td>\n",
              "    </tr>\n",
              "    <tr>\n",
              "      <th>30</th>\n",
              "      <td>Panda Express</td>\n",
              "      <td>4452</td>\n",
              "      <td>2173</td>\n",
              "      <td>147</td>\n",
              "      <td>2187</td>\n",
              "      <td>2334</td>\n",
              "      <td>150</td>\n",
              "    </tr>\n",
              "    <tr>\n",
              "      <th>31</th>\n",
              "      <td>Panera Bread</td>\n",
              "      <td>5650</td>\n",
              "      <td>2700</td>\n",
              "      <td>1130</td>\n",
              "      <td>950</td>\n",
              "      <td>2080</td>\n",
              "      <td>-25</td>\n",
              "    </tr>\n",
              "    <tr>\n",
              "      <th>32</th>\n",
              "      <td>Papa Johns</td>\n",
              "      <td>3486</td>\n",
              "      <td>1147</td>\n",
              "      <td>2564</td>\n",
              "      <td>600</td>\n",
              "      <td>3164</td>\n",
              "      <td>30</td>\n",
              "    </tr>\n",
              "    <tr>\n",
              "      <th>33</th>\n",
              "      <td>Papa Murphy’s</td>\n",
              "      <td>809</td>\n",
              "      <td>643</td>\n",
              "      <td>1213</td>\n",
              "      <td>27</td>\n",
              "      <td>1240</td>\n",
              "      <td>-53</td>\n",
              "    </tr>\n",
              "    <tr>\n",
              "      <th>34</th>\n",
              "      <td>Pizza Hut</td>\n",
              "      <td>5500</td>\n",
              "      <td>1022</td>\n",
              "      <td>6526</td>\n",
              "      <td>22</td>\n",
              "      <td>6548</td>\n",
              "      <td>-13</td>\n",
              "    </tr>\n",
              "    <tr>\n",
              "      <th>35</th>\n",
              "      <td>Popeyes Louisiana Kitchen</td>\n",
              "      <td>4775</td>\n",
              "      <td>1867</td>\n",
              "      <td>2716</td>\n",
              "      <td>41</td>\n",
              "      <td>2754</td>\n",
              "      <td>146</td>\n",
              "    </tr>\n",
              "    <tr>\n",
              "      <th>36</th>\n",
              "      <td>QDOBA</td>\n",
              "      <td>835</td>\n",
              "      <td>1006</td>\n",
              "      <td>406</td>\n",
              "      <td>333</td>\n",
              "      <td>739</td>\n",
              "      <td>2</td>\n",
              "    </tr>\n",
              "    <tr>\n",
              "      <th>37</th>\n",
              "      <td>Raising Cane’s</td>\n",
              "      <td>2377</td>\n",
              "      <td>4893</td>\n",
              "      <td>23</td>\n",
              "      <td>544</td>\n",
              "      <td>567</td>\n",
              "      <td>58</td>\n",
              "    </tr>\n",
              "    <tr>\n",
              "      <th>38</th>\n",
              "      <td>Shake Shack</td>\n",
              "      <td>777</td>\n",
              "      <td>3679</td>\n",
              "      <td>25</td>\n",
              "      <td>218</td>\n",
              "      <td>243</td>\n",
              "      <td>38</td>\n",
              "    </tr>\n",
              "    <tr>\n",
              "      <th>39</th>\n",
              "      <td>Sonic Drive-In</td>\n",
              "      <td>5835</td>\n",
              "      <td>1643</td>\n",
              "      <td>3232</td>\n",
              "      <td>320</td>\n",
              "      <td>3552</td>\n",
              "      <td>26</td>\n",
              "    </tr>\n",
              "    <tr>\n",
              "      <th>40</th>\n",
              "      <td>Starbucks</td>\n",
              "      <td>24300</td>\n",
              "      <td>1200</td>\n",
              "      <td>6497</td>\n",
              "      <td>8953</td>\n",
              "      <td>15450</td>\n",
              "      <td>113</td>\n",
              "    </tr>\n",
              "    <tr>\n",
              "      <th>41</th>\n",
              "      <td>Subway</td>\n",
              "      <td>9350</td>\n",
              "      <td>438</td>\n",
              "      <td>21147</td>\n",
              "      <td>0</td>\n",
              "      <td>21147</td>\n",
              "      <td>-1043</td>\n",
              "    </tr>\n",
              "    <tr>\n",
              "      <th>42</th>\n",
              "      <td>Taco Bell</td>\n",
              "      <td>12600</td>\n",
              "      <td>1823</td>\n",
              "      <td>6540</td>\n",
              "      <td>462</td>\n",
              "      <td>7002</td>\n",
              "      <td>203</td>\n",
              "    </tr>\n",
              "    <tr>\n",
              "      <th>43</th>\n",
              "      <td>Tim Hortons</td>\n",
              "      <td>687</td>\n",
              "      <td>1200</td>\n",
              "      <td>637</td>\n",
              "      <td>0</td>\n",
              "      <td>637</td>\n",
              "      <td>4</td>\n",
              "    </tr>\n",
              "    <tr>\n",
              "      <th>44</th>\n",
              "      <td>Tropical Smoothie Cafe</td>\n",
              "      <td>948</td>\n",
              "      <td>1009</td>\n",
              "      <td>1038</td>\n",
              "      <td>1</td>\n",
              "      <td>1039</td>\n",
              "      <td>125</td>\n",
              "    </tr>\n",
              "    <tr>\n",
              "      <th>45</th>\n",
              "      <td>Wendy's</td>\n",
              "      <td>11111</td>\n",
              "      <td>1895</td>\n",
              "      <td>5535</td>\n",
              "      <td>403</td>\n",
              "      <td>5938</td>\n",
              "      <td>57</td>\n",
              "    </tr>\n",
              "    <tr>\n",
              "      <th>46</th>\n",
              "      <td>Whataburger</td>\n",
              "      <td>3089</td>\n",
              "      <td>3640</td>\n",
              "      <td>131</td>\n",
              "      <td>742</td>\n",
              "      <td>873</td>\n",
              "      <td>29</td>\n",
              "    </tr>\n",
              "    <tr>\n",
              "      <th>47</th>\n",
              "      <td>White Castle</td>\n",
              "      <td>615</td>\n",
              "      <td>1749</td>\n",
              "      <td>0</td>\n",
              "      <td>349</td>\n",
              "      <td>349</td>\n",
              "      <td>-6</td>\n",
              "    </tr>\n",
              "    <tr>\n",
              "      <th>48</th>\n",
              "      <td>Wingstop</td>\n",
              "      <td>2278</td>\n",
              "      <td>1592</td>\n",
              "      <td>1498</td>\n",
              "      <td>36</td>\n",
              "      <td>1534</td>\n",
              "      <td>175</td>\n",
              "    </tr>\n",
              "    <tr>\n",
              "      <th>49</th>\n",
              "      <td>Zaxby’s</td>\n",
              "      <td>2233</td>\n",
              "      <td>2484</td>\n",
              "      <td>761</td>\n",
              "      <td>147</td>\n",
              "      <td>908</td>\n",
              "      <td>3</td>\n",
              "    </tr>\n",
              "  </tbody>\n",
              "</table>\n",
              "</div>\n",
              "      <button class=\"colab-df-convert\" onclick=\"convertToInteractive('df-d2612a57-4074-450e-9e1a-6e5b3f766eee')\"\n",
              "              title=\"Convert this dataframe to an interactive table.\"\n",
              "              style=\"display:none;\">\n",
              "        \n",
              "  <svg xmlns=\"http://www.w3.org/2000/svg\" height=\"24px\"viewBox=\"0 0 24 24\"\n",
              "       width=\"24px\">\n",
              "    <path d=\"M0 0h24v24H0V0z\" fill=\"none\"/>\n",
              "    <path d=\"M18.56 5.44l.94 2.06.94-2.06 2.06-.94-2.06-.94-.94-2.06-.94 2.06-2.06.94zm-11 1L8.5 8.5l.94-2.06 2.06-.94-2.06-.94L8.5 2.5l-.94 2.06-2.06.94zm10 10l.94 2.06.94-2.06 2.06-.94-2.06-.94-.94-2.06-.94 2.06-2.06.94z\"/><path d=\"M17.41 7.96l-1.37-1.37c-.4-.4-.92-.59-1.43-.59-.52 0-1.04.2-1.43.59L10.3 9.45l-7.72 7.72c-.78.78-.78 2.05 0 2.83L4 21.41c.39.39.9.59 1.41.59.51 0 1.02-.2 1.41-.59l7.78-7.78 2.81-2.81c.8-.78.8-2.07 0-2.86zM5.41 20L4 18.59l7.72-7.72 1.47 1.35L5.41 20z\"/>\n",
              "  </svg>\n",
              "      </button>\n",
              "      \n",
              "  <style>\n",
              "    .colab-df-container {\n",
              "      display:flex;\n",
              "      flex-wrap:wrap;\n",
              "      gap: 12px;\n",
              "    }\n",
              "\n",
              "    .colab-df-convert {\n",
              "      background-color: #E8F0FE;\n",
              "      border: none;\n",
              "      border-radius: 50%;\n",
              "      cursor: pointer;\n",
              "      display: none;\n",
              "      fill: #1967D2;\n",
              "      height: 32px;\n",
              "      padding: 0 0 0 0;\n",
              "      width: 32px;\n",
              "    }\n",
              "\n",
              "    .colab-df-convert:hover {\n",
              "      background-color: #E2EBFA;\n",
              "      box-shadow: 0px 1px 2px rgba(60, 64, 67, 0.3), 0px 1px 3px 1px rgba(60, 64, 67, 0.15);\n",
              "      fill: #174EA6;\n",
              "    }\n",
              "\n",
              "    [theme=dark] .colab-df-convert {\n",
              "      background-color: #3B4455;\n",
              "      fill: #D2E3FC;\n",
              "    }\n",
              "\n",
              "    [theme=dark] .colab-df-convert:hover {\n",
              "      background-color: #434B5C;\n",
              "      box-shadow: 0px 1px 3px 1px rgba(0, 0, 0, 0.15);\n",
              "      filter: drop-shadow(0px 1px 2px rgba(0, 0, 0, 0.3));\n",
              "      fill: #FFFFFF;\n",
              "    }\n",
              "  </style>\n",
              "\n",
              "      <script>\n",
              "        const buttonEl =\n",
              "          document.querySelector('#df-d2612a57-4074-450e-9e1a-6e5b3f766eee button.colab-df-convert');\n",
              "        buttonEl.style.display =\n",
              "          google.colab.kernel.accessAllowed ? 'block' : 'none';\n",
              "\n",
              "        async function convertToInteractive(key) {\n",
              "          const element = document.querySelector('#df-d2612a57-4074-450e-9e1a-6e5b3f766eee');\n",
              "          const dataTable =\n",
              "            await google.colab.kernel.invokeFunction('convertToInteractive',\n",
              "                                                     [key], {});\n",
              "          if (!dataTable) return;\n",
              "\n",
              "          const docLinkHtml = 'Like what you see? Visit the ' +\n",
              "            '<a target=\"_blank\" href=https://colab.research.google.com/notebooks/data_table.ipynb>data table notebook</a>'\n",
              "            + ' to learn more about interactive tables.';\n",
              "          element.innerHTML = '';\n",
              "          dataTable['output_type'] = 'display_data';\n",
              "          await google.colab.output.renderOutput(dataTable, element);\n",
              "          const docLink = document.createElement('div');\n",
              "          docLink.innerHTML = docLinkHtml;\n",
              "          element.appendChild(docLink);\n",
              "        }\n",
              "      </script>\n",
              "    </div>\n",
              "  </div>\n",
              "  "
            ]
          },
          "metadata": {},
          "execution_count": 211
        }
      ]
    },
    {
      "cell_type": "code",
      "source": [
        "df = df.rename(columns={'Fast-Food Chains':'Nombres', 'U.S. Systemwide Sales (Millions - U.S Dollars)': 'Ventas', 'Average Sales per Unit (Thousands - U.S Dollars)' : 'Promedio Ventas Unidad', 'Franchised Stores' : 'N Franquicias', 'Company Stores' : 'N Tiendas propias', '2021 Total Units' : 'Tiendas totales', 'Total Change in Units from 2020' : 'Diferencia_del_2020'})\n",
        "df.columns"
      ],
      "metadata": {
        "colab": {
          "base_uri": "https://localhost:8080/",
          "height": 0
        },
        "id": "sFXTwYiXR_1x",
        "outputId": "39e44984-2196-44e6-9338-10a1c7bbf66e"
      },
      "execution_count": 212,
      "outputs": [
        {
          "output_type": "execute_result",
          "data": {
            "text/plain": [
              "Index(['Nombres', 'Ventas', 'Promedio Ventas Unidad', 'N Franquicias',\n",
              "       'N Tiendas propias', 'Tiendas totales', 'Diferencia_del_2020'],\n",
              "      dtype='object')"
            ]
          },
          "metadata": {},
          "execution_count": 212
        }
      ]
    },
    {
      "cell_type": "markdown",
      "source": [
        "Cambiamos el nombre de las variables al español \n",
        "para que sea más fácil escribir"
      ],
      "metadata": {
        "id": "ByAltMJGAIbi"
      }
    },
    {
      "cell_type": "markdown",
      "source": [
        "## P1 Qué tienda tiene el mayor número de franquicias?"
      ],
      "metadata": {
        "id": "IZ5zwIqdc4bn"
      }
    },
    {
      "cell_type": "code",
      "source": [
        "tabla = pd.pivot_table(df,\n",
        "                       index = 'Nombres',\n",
        "                       values = ['N Franquicias'],               \n",
        ")\n",
        "tabla_ordenada = tabla.sort_values('N Franquicias', ascending = False)\n",
        "tabla_ordenada.head(1)"
      ],
      "metadata": {
        "id": "AEGRhnXtNIf_",
        "colab": {
          "base_uri": "https://localhost:8080/",
          "height": 112
        },
        "outputId": "89f2fa59-9192-4784-a7aa-33cef910a7ba"
      },
      "execution_count": 213,
      "outputs": [
        {
          "output_type": "execute_result",
          "data": {
            "text/plain": [
              "         N Franquicias\n",
              "Nombres               \n",
              "Subway           21147"
            ],
            "text/html": [
              "\n",
              "  <div id=\"df-13979f8c-18a9-4063-a0d6-eacfa65b5e54\">\n",
              "    <div class=\"colab-df-container\">\n",
              "      <div>\n",
              "<style scoped>\n",
              "    .dataframe tbody tr th:only-of-type {\n",
              "        vertical-align: middle;\n",
              "    }\n",
              "\n",
              "    .dataframe tbody tr th {\n",
              "        vertical-align: top;\n",
              "    }\n",
              "\n",
              "    .dataframe thead th {\n",
              "        text-align: right;\n",
              "    }\n",
              "</style>\n",
              "<table border=\"1\" class=\"dataframe\">\n",
              "  <thead>\n",
              "    <tr style=\"text-align: right;\">\n",
              "      <th></th>\n",
              "      <th>N Franquicias</th>\n",
              "    </tr>\n",
              "    <tr>\n",
              "      <th>Nombres</th>\n",
              "      <th></th>\n",
              "    </tr>\n",
              "  </thead>\n",
              "  <tbody>\n",
              "    <tr>\n",
              "      <th>Subway</th>\n",
              "      <td>21147</td>\n",
              "    </tr>\n",
              "  </tbody>\n",
              "</table>\n",
              "</div>\n",
              "      <button class=\"colab-df-convert\" onclick=\"convertToInteractive('df-13979f8c-18a9-4063-a0d6-eacfa65b5e54')\"\n",
              "              title=\"Convert this dataframe to an interactive table.\"\n",
              "              style=\"display:none;\">\n",
              "        \n",
              "  <svg xmlns=\"http://www.w3.org/2000/svg\" height=\"24px\"viewBox=\"0 0 24 24\"\n",
              "       width=\"24px\">\n",
              "    <path d=\"M0 0h24v24H0V0z\" fill=\"none\"/>\n",
              "    <path d=\"M18.56 5.44l.94 2.06.94-2.06 2.06-.94-2.06-.94-.94-2.06-.94 2.06-2.06.94zm-11 1L8.5 8.5l.94-2.06 2.06-.94-2.06-.94L8.5 2.5l-.94 2.06-2.06.94zm10 10l.94 2.06.94-2.06 2.06-.94-2.06-.94-.94-2.06-.94 2.06-2.06.94z\"/><path d=\"M17.41 7.96l-1.37-1.37c-.4-.4-.92-.59-1.43-.59-.52 0-1.04.2-1.43.59L10.3 9.45l-7.72 7.72c-.78.78-.78 2.05 0 2.83L4 21.41c.39.39.9.59 1.41.59.51 0 1.02-.2 1.41-.59l7.78-7.78 2.81-2.81c.8-.78.8-2.07 0-2.86zM5.41 20L4 18.59l7.72-7.72 1.47 1.35L5.41 20z\"/>\n",
              "  </svg>\n",
              "      </button>\n",
              "      \n",
              "  <style>\n",
              "    .colab-df-container {\n",
              "      display:flex;\n",
              "      flex-wrap:wrap;\n",
              "      gap: 12px;\n",
              "    }\n",
              "\n",
              "    .colab-df-convert {\n",
              "      background-color: #E8F0FE;\n",
              "      border: none;\n",
              "      border-radius: 50%;\n",
              "      cursor: pointer;\n",
              "      display: none;\n",
              "      fill: #1967D2;\n",
              "      height: 32px;\n",
              "      padding: 0 0 0 0;\n",
              "      width: 32px;\n",
              "    }\n",
              "\n",
              "    .colab-df-convert:hover {\n",
              "      background-color: #E2EBFA;\n",
              "      box-shadow: 0px 1px 2px rgba(60, 64, 67, 0.3), 0px 1px 3px 1px rgba(60, 64, 67, 0.15);\n",
              "      fill: #174EA6;\n",
              "    }\n",
              "\n",
              "    [theme=dark] .colab-df-convert {\n",
              "      background-color: #3B4455;\n",
              "      fill: #D2E3FC;\n",
              "    }\n",
              "\n",
              "    [theme=dark] .colab-df-convert:hover {\n",
              "      background-color: #434B5C;\n",
              "      box-shadow: 0px 1px 3px 1px rgba(0, 0, 0, 0.15);\n",
              "      filter: drop-shadow(0px 1px 2px rgba(0, 0, 0, 0.3));\n",
              "      fill: #FFFFFF;\n",
              "    }\n",
              "  </style>\n",
              "\n",
              "      <script>\n",
              "        const buttonEl =\n",
              "          document.querySelector('#df-13979f8c-18a9-4063-a0d6-eacfa65b5e54 button.colab-df-convert');\n",
              "        buttonEl.style.display =\n",
              "          google.colab.kernel.accessAllowed ? 'block' : 'none';\n",
              "\n",
              "        async function convertToInteractive(key) {\n",
              "          const element = document.querySelector('#df-13979f8c-18a9-4063-a0d6-eacfa65b5e54');\n",
              "          const dataTable =\n",
              "            await google.colab.kernel.invokeFunction('convertToInteractive',\n",
              "                                                     [key], {});\n",
              "          if (!dataTable) return;\n",
              "\n",
              "          const docLinkHtml = 'Like what you see? Visit the ' +\n",
              "            '<a target=\"_blank\" href=https://colab.research.google.com/notebooks/data_table.ipynb>data table notebook</a>'\n",
              "            + ' to learn more about interactive tables.';\n",
              "          element.innerHTML = '';\n",
              "          dataTable['output_type'] = 'display_data';\n",
              "          await google.colab.output.renderOutput(dataTable, element);\n",
              "          const docLink = document.createElement('div');\n",
              "          docLink.innerHTML = docLinkHtml;\n",
              "          element.appendChild(docLink);\n",
              "        }\n",
              "      </script>\n",
              "    </div>\n",
              "  </div>\n",
              "  "
            ]
          },
          "metadata": {},
          "execution_count": 213
        }
      ]
    },
    {
      "cell_type": "markdown",
      "source": [
        "Aquí podemos ver que Subway tiene el mayor número de franquicias con 21,147 franquicias"
      ],
      "metadata": {
        "id": "vdfFEUKBCwhy"
      }
    },
    {
      "cell_type": "markdown",
      "source": [
        "## P2 ¿Cuales son las 5 Fast Food Chains con mayor número de ventas?\n",
        "\n"
      ],
      "metadata": {
        "id": "sC5AlGL6Cb6h"
      }
    },
    {
      "cell_type": "code",
      "source": [
        "import matplotlib as mpl\n",
        "import matplotlib.pyplot as plt"
      ],
      "metadata": {
        "id": "dqzYIiv4Uybg"
      },
      "execution_count": 214,
      "outputs": []
    },
    {
      "cell_type": "code",
      "source": [
        "top_cadenas = df.groupby('Nombres')['Ventas'].sum().nlargest(5)\n",
        "\n",
        "colors = ['gold', 'skyblue', 'yellowgreen', 'coral', 'pink']\n",
        "\n",
        "plt.bar(top_cadenas.index, top_cadenas.values, color = colors)\n",
        "\n",
        "\n",
        "\n",
        "plt.title('Top 5 Cadenas con más ventas')\n",
        "plt.xlabel('Fast Food Chains')\n",
        "plt.ylabel('Ventas en millones de dólares')\n",
        "\n"
      ],
      "metadata": {
        "colab": {
          "base_uri": "https://localhost:8080/",
          "height": 312
        },
        "id": "4ZjpMB948l3_",
        "outputId": "e4cfbe92-04c7-4638-d2df-67cbc8215eaa"
      },
      "execution_count": 215,
      "outputs": [
        {
          "output_type": "execute_result",
          "data": {
            "text/plain": [
              "Text(0, 0.5, 'Ventas en millones de dólares')"
            ]
          },
          "metadata": {},
          "execution_count": 215
        },
        {
          "output_type": "display_data",
          "data": {
            "text/plain": [
              "<Figure size 432x288 with 1 Axes>"
            ],
            "image/png": "[encoded data removed]"
          },
          "metadata": {
            "needs_background": "light"
          }
        }
      ]
    },
    {
      "cell_type": "markdown",
      "source": [
        "Como resultado, en la gráfica podemos observar que las 5 cadenas con más ventas son: McDonalds, Starbucks, Chick fil-A, Taco Bell y Wendys"
      ],
      "metadata": {
        "id": "borrQSPnDQSy"
      }
    },
    {
      "cell_type": "markdown",
      "source": [
        "# P3 ¿Cuales son las 5 Fast Food Chains con mayor número de franquicias?"
      ],
      "metadata": {
        "id": "VsprYokG5z8i"
      }
    },
    {
      "cell_type": "code",
      "source": [
        "top_5_franquicias = df.sort_values(by='N Franquicias', ascending=False).head(5)\n",
        "\n",
        "ndf = top_5_franquicias[['N Franquicias', 'Nombres']]\n",
        "\n",
        "by_cadena = ndf.groupby(\"Nombres\")\n",
        "\n",
        "for cadena, group in by_cadena:\n",
        "    plt.hist(group[\"N Franquicias\"], bins=40, alpha=0.5, label=cadena, range=[0,25000])\n",
        "\n",
        "plt.legend()\n",
        "plt.xlabel(\"Número de Franquicias\")\n",
        "plt.ylabel(\"Frecuencia\")\n",
        "plt.ylim(top=2)\n",
        "plt.title(\"Histograma del Número de Franquicias por Cadena\")\n",
        "\n",
        "plt.show()"
      ],
      "metadata": {
        "colab": {
          "base_uri": "https://localhost:8080/",
          "height": 296
        },
        "id": "f88k8Nmh6Rbh",
        "outputId": "2ea9606e-4890-4532-f057-44388243003e"
      },
      "execution_count": 216,
      "outputs": [
        {
          "output_type": "display_data",
          "data": {
            "text/plain": [
              "<Figure size 432x288 with 1 Axes>"
            ],
            "image/png": "[encoded data removed]"
          },
          "metadata": {
            "needs_background": "light"
          }
        }
      ]
    },
    {
      "cell_type": "markdown",
      "source": [
        "En el histograma, podemos ver que la cadena con más franquicias es Subway, después Mcdonalds, Dunkin, Burger King y Taco Bell"
      ],
      "metadata": {
        "id": "UO1ouqL3Az3m"
      }
    },
    {
      "cell_type": "code",
      "source": [],
      "metadata": {
        "id": "WDyVt6-X6w0F"
      },
      "execution_count": 216,
      "outputs": []
    },
    {
      "cell_type": "markdown",
      "source": [
        "# P4 ¿Existe una relación entre la cantidad de franquicias y las ventas totales de una cadena de comida rápida?"
      ],
      "metadata": {
        "id": "3HuuwvzJBZyk"
      }
    },
    {
      "cell_type": "code",
      "source": [
        "import seaborn as sns\n",
        "\n",
        "df_relevant = df[['N Franquicias', 'Ventas']]\n",
        "\n",
        "sns.regplot(x='N Franquicias', y='Ventas', data=df_relevant)\n",
        "\n",
        "plt.xlabel('Número de Franquicias')\n",
        "plt.ylabel('Ventas Totales (Millones de Dólares)')\n",
        "plt.title('Relación entre Franquicias y Ventas Totales')"
      ],
      "metadata": {
        "colab": {
          "base_uri": "https://localhost:8080/",
          "height": 313
        },
        "id": "Dl7Il2OyBbvn",
        "outputId": "9713abc1-6e3a-4142-80af-40e7ef77e3cd"
      },
      "execution_count": 217,
      "outputs": [
        {
          "output_type": "execute_result",
          "data": {
            "text/plain": [
              "Text(0.5, 1.0, 'Relación entre Franquicias y Ventas Totales')"
            ]
          },
          "metadata": {},
          "execution_count": 217
        },
        {
          "output_type": "display_data",
          "data": {
            "text/plain": [
              "<Figure size 432x288 with 1 Axes>"
            ],
            "image/png": "[encoded data removed]"
          },
          "metadata": {
            "needs_background": "light"
          }
        }
      ]
    },
    {
      "cell_type": "markdown",
      "source": [],
      "metadata": {
        "id": "fZQ0AGKfA_OY"
      }
    },
    {
      "cell_type": "code",
      "source": [],
      "metadata": {
        "id": "kU6IX-TQBe2n"
      },
      "execution_count": 217,
      "outputs": []
    },
    {
      "cell_type": "markdown",
      "source": [
        "# P5 ¿Cuál es la distribución porcentual de las ventas totales de las 5 cadenas de comida rápida con mayor cantidad de franquicias en 2021?"
      ],
      "metadata": {
        "id": "o9ebPYLVC3Ug"
      }
    },
    {
      "cell_type": "code",
      "source": [
        "df_top_franchises = df.nlargest(5, 'N Franquicias')\n",
        "labels = df_top_franchises['Nombres']\n",
        "sizes = df_top_franchises['Ventas']\n",
        "\n",
        "fig, ax = plt.subplots()\n",
        "ax.pie(sizes, labels=labels, autopct='%1.1f%%', startangle=90)\n",
        "ax.axis('equal')\n",
        "ax.set_title('Distribución porcentual de ventas de las 5 cadenas con mayor cantidad de franquicias')\n",
        "\n",
        "plt.show()"
      ],
      "metadata": {
        "colab": {
          "base_uri": "https://localhost:8080/",
          "height": 264
        },
        "id": "bTJ1HzwIC5yU",
        "outputId": "f21498f0-6c2f-452d-dd8c-e44821acc7ad"
      },
      "execution_count": 218,
      "outputs": [
        {
          "output_type": "display_data",
          "data": {
            "text/plain": [
              "<Figure size 432x288 with 1 Axes>"
            ],
            "image/png": "[encoded data removed]"
          },
          "metadata": {}
        }
      ]
    },
    {
      "cell_type": "markdown",
      "source": [
        "Aquí podemos observar que Mcdonalds es la cadena con mayor distribución porcentual con mayor cantidad de franquicias, seguido de subway, taco bell, dunkin y burger king"
      ],
      "metadata": {
        "id": "CPpL2CZ0FCad"
      }
    },
    {
      "cell_type": "code",
      "source": [],
      "metadata": {
        "id": "qmJjLWNQC8Rh"
      },
      "execution_count": 218,
      "outputs": []
    },
    {
      "cell_type": "markdown",
      "source": [
        "## P6 ¿Existe una relación entre el número de tiendas propias y el promedio de ventas por unidad en las cadenas de comida rápida en 2021?"
      ],
      "metadata": {
        "id": "Shvgqw5YEPME"
      }
    },
    {
      "cell_type": "code",
      "source": [
        "x = df['N Tiendas propias']\n",
        "y = df['Promedio Ventas Unidad']\n",
        "\n",
        "\n",
        "corr = np.corrcoef(x, y)[0, 1]\n",
        "\n",
        "print(f'La correlación entre el número de tiendas propias y el promedio de ventas por unidad es: {corr}')"
      ],
      "metadata": {
        "colab": {
          "base_uri": "https://localhost:8080/",
          "height": 0
        },
        "id": "dUiqwOqeEQxK",
        "outputId": "5e7516a9-04af-48e4-d07a-c39d134252c8"
      },
      "execution_count": 219,
      "outputs": [
        {
          "output_type": "stream",
          "name": "stdout",
          "text": [
            "La correlación entre el número de tiendas propias y el promedio de ventas por unidad es: 0.021543373181112786\n"
          ]
        }
      ]
    },
    {
      "cell_type": "markdown",
      "source": [
        "Como podemos ver, el coeficiente de correlación es de 0.021 lo que se aproxima a 0, por lo que concluimos que si existe una correlación pero no es muy fuerte"
      ],
      "metadata": {
        "id": "7fiZA7c5CAiw"
      }
    },
    {
      "cell_type": "code",
      "source": [
        "import statsmodels.api as sm\n",
        "df.columns"
      ],
      "metadata": {
        "id": "ZLyXmQ1_FRGK",
        "colab": {
          "base_uri": "https://localhost:8080/",
          "height": 0
        },
        "outputId": "f7aff6f7-8c10-4508-ad79-efebf981e2ef"
      },
      "execution_count": 220,
      "outputs": [
        {
          "output_type": "execute_result",
          "data": {
            "text/plain": [
              "Index(['Nombres', 'Ventas', 'Promedio Ventas Unidad', 'N Franquicias',\n",
              "       'N Tiendas propias', 'Tiendas totales', 'Diferencia_del_2020'],\n",
              "      dtype='object')"
            ]
          },
          "metadata": {},
          "execution_count": 220
        }
      ]
    },
    {
      "cell_type": "markdown",
      "source": [
        "## P7 ¿Existe una relación lineal entre la diferencia del 2020 y las ventas totales de las cadenas de comida rápida?"
      ],
      "metadata": {
        "id": "W_aQpvrJJBIo"
      }
    },
    {
      "cell_type": "code",
      "source": [
        "ndf = df[['Ventas', 'Diferencia_del_2020']]\n",
        "model = sm.OLS.from_formula('Diferencia_del_2020 ~ Ventas', data=ndf)\n",
        "results = model.fit()\n",
        "print(results.summary())\n"
      ],
      "metadata": {
        "colab": {
          "base_uri": "https://localhost:8080/",
          "height": 0
        },
        "id": "lnzuTPdsdXeK",
        "outputId": "43852a61-d4db-4de4-9a4f-50453d0bfc82"
      },
      "execution_count": 221,
      "outputs": [
        {
          "output_type": "stream",
          "name": "stdout",
          "text": [
            "                             OLS Regression Results                            \n",
            "===============================================================================\n",
            "Dep. Variable:     Diferencia_del_2020   R-squared:                       0.028\n",
            "Model:                             OLS   Adj. R-squared:                  0.008\n",
            "Method:                  Least Squares   F-statistic:                     1.385\n",
            "Date:                 Fri, 17 Mar 2023   Prob (F-statistic):              0.245\n",
            "Time:                         03:31:28   Log-Likelihood:                -327.62\n",
            "No. Observations:                   50   AIC:                             659.2\n",
            "Df Residuals:                       48   BIC:                             663.1\n",
            "Df Model:                            1                                         \n",
            "Covariance Type:             nonrobust                                         \n",
            "==============================================================================\n",
            "                 coef    std err          t      P>|t|      [0.025      0.975]\n",
            "------------------------------------------------------------------------------\n",
            "Intercept     10.5130     29.410      0.357      0.722     -48.619      69.645\n",
            "Ventas         0.0039      0.003      1.177      0.245      -0.003       0.010\n",
            "==============================================================================\n",
            "Omnibus:                       93.245   Durbin-Watson:                   2.243\n",
            "Prob(Omnibus):                  0.000   Jarque-Bera (JB):             2253.883\n",
            "Skew:                          -5.169   Prob(JB):                         0.00\n",
            "Kurtosis:                      34.225   Cond. No.                     1.08e+04\n",
            "==============================================================================\n",
            "\n",
            "Notes:\n",
            "[1] Standard Errors assume that the covariance matrix of the errors is correctly specified.\n",
            "[2] The condition number is large, 1.08e+04. This might indicate that there are\n",
            "strong multicollinearity or other numerical problems.\n"
          ]
        }
      ]
    },
    {
      "cell_type": "code",
      "source": [
        "df = df.sort_values(['Ventas', 'Diferencia_del_2020'], ascending=False).head(5)\n",
        "\n",
        "\n",
        "ndf = df[['Ventas', 'Diferencia_del_2020']]\n",
        "\n",
        "\n",
        "model = sm.OLS.from_formula('Q(\"Diferencia_del_2020\") ~ Ventas', data=ndf)\n",
        "results = model.fit()\n",
        "\n",
        "fig, ax = plt.subplots()\n",
        "ax.scatter(ndf['Ventas'], ndf['Diferencia_del_2020'], label='Datos')\n",
        "ax.plot(ndf['Ventas'], results.predict(ndf), color='red', label='Modelo')\n",
        "ax.set_xlabel('Ventas')\n",
        "ax.set_ylabel('Diferencia del 2020')\n",
        "ax.legend()\n",
        "plt.show()"
      ],
      "metadata": {
        "colab": {
          "base_uri": "https://localhost:8080/",
          "height": 280
        },
        "id": "QdVaprSuSV1E",
        "outputId": "1670d27d-838a-40cc-f06f-f0e28225aede"
      },
      "execution_count": 222,
      "outputs": [
        {
          "output_type": "display_data",
          "data": {
            "text/plain": [
              "<Figure size 432x288 with 1 Axes>"
            ],
            "image/png": "[encoded data removed]"
          },
          "metadata": {
            "needs_background": "light"
          }
        }
      ]
    },
    {
      "cell_type": "markdown",
      "source": [
        "Aquí podemos observar que hay una regresión lineal positiva entre la diferencia de tiendas del 2020 por cadena y las ventas totales. Lo que nos indica que entre más diferencias más ventas"
      ],
      "metadata": {
        "id": "jxYpRdC_oD4E"
      }
    }
  ]
}